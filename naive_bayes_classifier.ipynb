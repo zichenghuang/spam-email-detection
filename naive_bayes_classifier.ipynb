{
  "nbformat": 4,
  "nbformat_minor": 0,
  "metadata": {
    "colab": {
      "name": "naive_bayes_classifier.ipynb",
      "provenance": [],
      "collapsed_sections": [],
      "authorship_tag": "ABX9TyO0FJnFWWXZXmsOFwk1FyiW",
      "include_colab_link": true
    },
    "kernelspec": {
      "name": "python3",
      "display_name": "Python 3"
    }
  },
  "cells": [
    {
      "cell_type": "markdown",
      "metadata": {
        "id": "view-in-github",
        "colab_type": "text"
      },
      "source": [
        "<a href=\"https://colab.research.google.com/github/zichenghuang/spam-email-detection/blob/main/naive_bayes_classifier.ipynb\" target=\"_parent\"><img src=\"https://colab.research.google.com/assets/colab-badge.svg\" alt=\"Open In Colab\"/></a>"
      ]
    },
    {
      "cell_type": "code",
      "metadata": {
        "id": "scK3Z0gWWHxH"
      },
      "source": [
        "import numpy as np\n",
        "import pandas as pd\n",
        "import matplotlib.pyplot as plt\n",
        "from sklearn.model_selection import KFold"
      ],
      "execution_count": 1,
      "outputs": []
    },
    {
      "cell_type": "markdown",
      "metadata": {
        "id": "Dt8ceb7ScTmK"
      },
      "source": [
        "#Import Data"
      ]
    },
    {
      "cell_type": "markdown",
      "metadata": {
        "id": "NINX3KqGgYfO"
      },
      "source": [
        "The data consists of examples of spam and non-spam emails, of which there are 4600 labeled examples. The feature vector $x$ is a 54-dimentional vector extracted from the email and $y=1$ indicates a spam email."
      ]
    },
    {
      "cell_type": "code",
      "metadata": {
        "colab": {
          "base_uri": "https://localhost:8080/"
        },
        "id": "DgO6oMMPWizs",
        "outputId": "af8a428b-b358-47f5-cb93-e6f5ec19bfa1"
      },
      "source": [
        "# connect to google drive\n",
        "from google.colab import drive\n",
        "drive.mount('/gdrive')"
      ],
      "execution_count": 2,
      "outputs": [
        {
          "output_type": "stream",
          "text": [
            "Mounted at /gdrive\n"
          ],
          "name": "stdout"
        }
      ]
    },
    {
      "cell_type": "code",
      "metadata": {
        "id": "Z9aVpFSpcKj8"
      },
      "source": [
        "# import data\n",
        "X = pd.read_csv('/gdrive/MyDrive/Repository/spam_email_detection/data/X.csv', \n",
        "                sep=',', \n",
        "                header=None)\n",
        "\n",
        "y = pd.read_csv('/gdrive/MyDrive/Repository/spam_email_detection/data/y.csv', \n",
        "                sep=',', \n",
        "                header=None)"
      ],
      "execution_count": 3,
      "outputs": []
    },
    {
      "cell_type": "markdown",
      "metadata": {
        "id": "SBKKYXV_RMOr"
      },
      "source": [
        "# Naive Bayes Classifier"
      ]
    },
    {
      "cell_type": "markdown",
      "metadata": {
        "id": "jQUmf8hEgrSD"
      },
      "source": [
        "We implement a naive Bayes classifier which is derived with assuming each dimension of $x$ is i.i.d. Poisson distributed with a Gamma prior. The distribution $p(y_0=y|\\pi)= \\text{Bernoulli}(y|\\pi)$."
      ]
    },
    {
      "cell_type": "markdown",
      "metadata": {
        "id": "Uy87pUY7hvgF"
      },
      "source": [
        "In every experiment below, we randomly partition the data into 10 folds and run the algorithm 10 different times so that each fold is held out as a test set one time. The final result we show is the cumulative result across these 10 folds."
      ]
    },
    {
      "cell_type": "markdown",
      "metadata": {
        "id": "vJmnH8u3edb2"
      },
      "source": [
        "## Implementation\n",
        "\n"
      ]
    },
    {
      "cell_type": "code",
      "metadata": {
        "id": "mBh3M4VSpkrQ"
      },
      "source": [
        "# pi hat estimator\n",
        "def pi_hat(y_train):\n",
        "\n",
        "    input = np.asarray(y_train)\n",
        "    output = {}\n",
        "\n",
        "    labels = np.unique(input)\n",
        "    counts = np.unique(input, return_counts=True)[1]\n",
        "\n",
        "    for i in labels:\n",
        "        \n",
        "        output[int(i)] = float(counts[i])/input.shape[0]\n",
        "    \n",
        "    return output"
      ],
      "execution_count": 4,
      "outputs": []
    },
    {
      "cell_type": "code",
      "metadata": {
        "id": "F1tUD4sZqdWP"
      },
      "source": [
        "# lambda hat estimator\n",
        "def lambda_hat(X_train, y_train):\n",
        "\n",
        "    input_X = np.asarray(X_train)\n",
        "    input_y = np.asarray(y_train)\n",
        "    output = {}\n",
        "\n",
        "    labels = np.unique(input_y)\n",
        "\n",
        "    for i in labels:\n",
        "        \n",
        "        indices = np.nonzero(input_y==int(i))[0]\n",
        "        X_yi = input_X[indices]\n",
        "        output[int(i)] = (1 + np.sum(X_yi, axis=0, keepdims=True))/(1 + indices.shape[0])\n",
        "\n",
        "    return output"
      ],
      "execution_count": 5,
      "outputs": []
    },
    {
      "cell_type": "code",
      "metadata": {
        "id": "s3Xhtg3Uqgfm"
      },
      "source": [
        "# naive Bayes classifier for 1 fold\n",
        "def naive_bayes_prediction(X_test, X_train, y_train):\n",
        "\n",
        "    input_X_test = np.asarray(X_test)\n",
        "    input_X_train = np.asarray(X_train)\n",
        "    input_y_train = np.asarray(y_train)\n",
        "    output = np.zeros((len(input_X_test), 1), dtype=int)\n",
        "\n",
        "    pi_new = pi_hat(input_y_train)\n",
        "    lambda_new = lambda_hat(input_X_train, input_y_train)\n",
        "\n",
        "    prob_0 = np.log(pi_new[0]) + np.dot(X_test, np.log(lambda_new[0]).T) - np.sum(lambda_new[0])\n",
        "    prob_1 = np.log(pi_new[1]) + np.dot(X_test, np.log(lambda_new[1]).T) - np.sum(lambda_new[1])\n",
        "\n",
        "    indices_1 = np.nonzero(prob_0 < prob_1)\n",
        "    output[indices_1] = 1\n",
        "\n",
        "    return output"
      ],
      "execution_count": 6,
      "outputs": []
    },
    {
      "cell_type": "code",
      "metadata": {
        "id": "WMBNWw3-wZOr"
      },
      "source": [
        "# naive Bayes classifier for n foldes\n",
        "def naive_bayes_classifier(X, y, n_folds=10, shuffle_data=True):\n",
        "    \n",
        "    input_X = np.asarray(X)\n",
        "    input_y = np.asarray(y)\n",
        "\n",
        "    # creat 10 folds partition\n",
        "    kf = KFold(n_splits=n_folds, shuffle=shuffle_data)\n",
        "\n",
        "    prediction_list = []\n",
        "    truth_list = []\n",
        "\n",
        "    labels = np.unique(input_y)\n",
        "    avg_lambda_hat = {}\n",
        "\n",
        "    for i in labels:\n",
        "\n",
        "        avg_lambda_hat[int(i)] = np.zeros((1, input_X.shape[1]))\n",
        "\n",
        "    for train_index, test_index in kf.split(input_X):\n",
        "        \n",
        "        X_test = input_X[test_index]\n",
        "        y_test = input_y[test_index]\n",
        "        X_train = input_X[train_index]\n",
        "        y_train = input_y[train_index]\n",
        "\n",
        "        y_hat = naive_bayes_prediction(X_test, X_train, y_train)\n",
        "        y_hat_list = y_hat.reshape(y_hat.shape[0],).tolist()\n",
        "        y_truth_list = y_test.reshape(y_test.shape[0],).tolist()\n",
        "\n",
        "        prediction_list += y_hat_list\n",
        "        truth_list += y_truth_list\n",
        "\n",
        "        for i in labels:\n",
        "\n",
        "            avg_lambda_hat[int(i)] += lambda_hat(X_train, y_train)[int(i)]\n",
        "    \n",
        "    for i in labels:\n",
        "        \n",
        "        avg_lambda_hat[int(i)] /= n_folds\n",
        "\n",
        "    prediction = np.asarray(prediction_list).reshape(len(prediction_list), 1)\n",
        "    truth = np.asarray(truth_list).reshape(len(truth_list), 1)\n",
        "\n",
        "    true_negative = np.nonzero((prediction == 0) & (truth == 0))[0].shape[0]\n",
        "    true_positive = np.nonzero((prediction == 1) & (truth == 1))[0].shape[0]\n",
        "    false_negative = np.nonzero((prediction == 0) & (truth == 1))[0].shape[0]\n",
        "    false_positive = np.nonzero((prediction == 1) & (truth == 0))[0].shape[0]\n",
        "    accuracy = np.nonzero(prediction == truth)[0].shape[0] / len(truth)\n",
        "\n",
        "    return true_negative, true_positive, false_negative, false_positive, accuracy, avg_lambda_hat"
      ],
      "execution_count": 7,
      "outputs": []
    },
    {
      "cell_type": "markdown",
      "metadata": {
        "id": "bvulTmhfeyEg"
      },
      "source": [
        "## Train the classifier"
      ]
    },
    {
      "cell_type": "code",
      "metadata": {
        "id": "3x3zUULZD-lt"
      },
      "source": [
        "# train naive Bayes classifier on input X and y using 10 folds\n",
        "tn, tp, fn, fp, accuracy, avg_lambda_hat = naive_bayes_classifier(X, y)"
      ],
      "execution_count": 8,
      "outputs": []
    },
    {
      "cell_type": "markdown",
      "metadata": {
        "id": "_7XOiCX5e9lK"
      },
      "source": [
        "## Plot the confusion matrix and prediction accuracy"
      ]
    },
    {
      "cell_type": "code",
      "metadata": {
        "colab": {
          "base_uri": "https://localhost:8080/",
          "height": 336
        },
        "id": "BoTOfun62-sM",
        "outputId": "c980f43a-f6cf-471e-c758-a46f6a914d94"
      },
      "source": [
        "# 2 by 2 result table\n",
        "fig = plt.figure(figsize=(5, 5))\n",
        "ax = fig.add_subplot()\n",
        "\n",
        "# plot the 2 by 2 table\n",
        "ax.plot([-0.5, 1.5], [0.5, 0.5], '-k', lw=1)\n",
        "ax.plot([0.5, 0.5], [-0.5, 1.5], '-k', lw=1)\n",
        "ax.set_xlim(-0.5,1.5)\n",
        "ax.set_ylim(1.5,-0.5)\n",
        "\n",
        "# set xlabels\n",
        "ax.set_xlabel('Predicted Label', fontsize=15)\n",
        "ax.set_xticks([0, 1])\n",
        "ax.xaxis.set_label_position('top')\n",
        "ax.xaxis.tick_top()\n",
        "\n",
        "# set ylabels\n",
        "ax.set_ylabel('True Label', fontsize=15, rotation=0)\n",
        "ax.set_yticks([0, 1])\n",
        "ax.yaxis.set_label_coords(-0.2, 0.475)\n",
        "\n",
        "# fill in the 2 by 2 table\n",
        "ax.text(0, 0, 'True Negative: %d'%(tn),va='center', ha='center', fontsize=12)\n",
        "ax.text(0, 1, 'False Negative: %d'%fn,va='center', ha='center', fontsize=12)\n",
        "ax.text(1, 0, 'False Positive: %d'%fp,va='center', ha='center', fontsize=12)\n",
        "ax.text(1, 1, 'True Positive: %d'%(tp),va='center', ha='center', fontsize=12)\n",
        "ax.text(1.75, 0.5, 'Prediction Accuracy = {:.4f}'.format(accuracy), fontsize=15)\n",
        "\n",
        "plt.show()"
      ],
      "execution_count": 9,
      "outputs": [
        {
          "output_type": "display_data",
          "data": {
            "image/png": "[encoded data removed]",
            "text/plain": [
              "<Figure size 360x360 with 1 Axes>"
            ]
          },
          "metadata": {
            "tags": [],
            "needs_background": "light"
          }
        }
      ]
    },
    {
      "cell_type": "markdown",
      "metadata": {
        "id": "G6GG__5VBEsj"
      },
      "source": [
        "## Show a stem plot of the 54 Poisson parameters for each class averaged across the 10 folds"
      ]
    },
    {
      "cell_type": "code",
      "metadata": {
        "colab": {
          "base_uri": "https://localhost:8080/",
          "height": 623
        },
        "id": "rdKfo_h4LDEe",
        "outputId": "35054346-7081-44aa-82d8-bc3486f78a0d"
      },
      "source": [
        "# stem plot\n",
        "plt.figure(figsize=(10, 10))\n",
        "ax = plt.subplot()\n",
        "ax.stem(np.arange(54), \n",
        "         avg_lambda_hat[0].reshape(54,), \n",
        "         'r', \n",
        "         markerfmt='ro', \n",
        "         basefmt='black', \n",
        "         label='class label = 0', \n",
        "         use_line_collection=True)\n",
        "ax.stem(np.arange(54), \n",
        "         avg_lambda_hat[1].reshape(54,), \n",
        "         'g', \n",
        "         markerfmt='go', \n",
        "         basefmt='black', \n",
        "         label='class label = 1', \n",
        "         use_line_collection=True)\n",
        "ax.legend()\n",
        "ax.set_title(r'$\\lambda$_hat for each feature and class label')\n",
        "ax.set_xlabel('features')\n",
        "ax.set_ylabel(r'$\\lambda$_hat values')\n",
        "plt.show()"
      ],
      "execution_count": 10,
      "outputs": [
        {
          "output_type": "display_data",
          "data": {
            "image/png": "[encoded data removed]",
            "text/plain": [
              "<Figure size 720x720 with 1 Axes>"
            ]
          },
          "metadata": {
            "tags": [],
            "needs_background": "light"
          }
        }
      ]
    },
    {
      "cell_type": "code",
      "metadata": {
        "id": "lLjPtHFMDeRl",
        "colab": {
          "base_uri": "https://localhost:8080/"
        },
        "outputId": "df4dfa74-83c1-462c-d25f-e3082c417018"
      },
      "source": [
        "avg_lambda_hat[0][0, 15]"
      ],
      "execution_count": 11,
      "outputs": [
        {
          "output_type": "execute_result",
          "data": {
            "text/plain": [
              "0.7396222043804813"
            ]
          },
          "metadata": {
            "tags": []
          },
          "execution_count": 11
        }
      ]
    },
    {
      "cell_type": "code",
      "metadata": {
        "colab": {
          "base_uri": "https://localhost:8080/"
        },
        "id": "lkGuhGy8Kf55",
        "outputId": "c5d91e24-bfd3-48b7-f0d3-af329eb54b4f"
      },
      "source": [
        "avg_lambda_hat[1][0, 15]"
      ],
      "execution_count": 12,
      "outputs": [
        {
          "output_type": "execute_result",
          "data": {
            "text/plain": [
              "5.213453537244169"
            ]
          },
          "metadata": {
            "tags": []
          },
          "execution_count": 12
        }
      ]
    },
    {
      "cell_type": "markdown",
      "metadata": {
        "id": "NRipAFBfPWxG"
      },
      "source": [
        "For dimensions 16 (\"Free\"), the Poisson parameter for class labeled \"0\" is approximately 0.7396 and the Poisson parameter for class label \"1\" is approximately 5.2136. \n",
        "\n",
        "This suggests that there is a much higher chance (about $5.2136/0.7396 \\approx 7$ times) to see the word \"Free\" in a spam email than in a non-spam email. "
      ]
    },
    {
      "cell_type": "code",
      "metadata": {
        "colab": {
          "base_uri": "https://localhost:8080/"
        },
        "id": "wqeUWT6uKgNs",
        "outputId": "37e7c36a-f96b-4bec-fd74-3526b7806457"
      },
      "source": [
        "avg_lambda_hat[0][0, 51]"
      ],
      "execution_count": 13,
      "outputs": [
        {
          "output_type": "execute_result",
          "data": {
            "text/plain": [
              "1.0961918447390073"
            ]
          },
          "metadata": {
            "tags": []
          },
          "execution_count": 13
        }
      ]
    },
    {
      "cell_type": "code",
      "metadata": {
        "colab": {
          "base_uri": "https://localhost:8080/"
        },
        "id": "MTHxzcOeKgWI",
        "outputId": "4d7da5ea-16b6-4c94-9793-ff12ef009bbc"
      },
      "source": [
        "avg_lambda_hat[1][0, 51]"
      ],
      "execution_count": 14,
      "outputs": [
        {
          "output_type": "execute_result",
          "data": {
            "text/plain": [
              "5.129301885796816"
            ]
          },
          "metadata": {
            "tags": []
          },
          "execution_count": 14
        }
      ]
    },
    {
      "cell_type": "markdown",
      "metadata": {
        "id": "lflhbY66Q02Z"
      },
      "source": [
        "For dimensions 52 (\"!\"), the Poisson parameter for class labeled \"0\" is approximately 1.0962 and the Poisson parameter for class label \"1\" is approximately 5.1292. \n",
        "\n",
        "This suggests that there is a much higher chance (about $5.1292/1.0961 \\approx 5$ times) to see the word \"!\" in a spam email than in a non-spam email. "
      ]
    },
    {
      "cell_type": "markdown",
      "metadata": {
        "id": "LJTmjc2JzmwJ"
      },
      "source": [
        "Based on these observations, the words \"Free\" and \"!\" both have a much higher chance of appearing in a spam email."
      ]
    }
  ]
}